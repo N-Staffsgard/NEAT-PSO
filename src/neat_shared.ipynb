{
  "cells": [
    {
      "cell_type": "code",
      "execution_count": 1,
      "metadata": {
        "colab": {
          "base_uri": "https://localhost:8080/"
        },
        "id": "Y7qzMfxeOJYh",
        "outputId": "0bbc9032-6f33-4c6f-b18f-74fe59d4c347"
      },
      "outputs": [],
      "source": [
        "# pip install neat-python"
      ]
    },
    {
      "cell_type": "code",
      "execution_count": 2,
      "metadata": {
        "id": "v8_p-geMKUWR"
      },
      "outputs": [],
      "source": [
        "from torchvision import datasets, transforms\n",
        "import torch\n",
        "import neat\n",
        "# TODO: These are a beginning of an own implemenation of NEAT, not used anywhere yet.\n",
        "class Genome:\n",
        "    def __init__(self, key):\n",
        "        self.key = key\n",
        "\n",
        "class NEAT:\n",
        "    def __init__(self, inputNodes, outputNodes):\n",
        "        self.inputLayer =  torch.nn.Linear(in_features= inputNodes,out_features=1)\n",
        "        self.relu1 = torch.nn.ReLU()\n",
        "        self.outputLayer = torch.nn.Linear(1,outputNodes)\n",
        "        self.model = [self.inputLayer, self.relu1,self.outputLayer]\n",
        "        self.nLayers = 1\n",
        "\n",
        "\n",
        "class Model:\n",
        "    def __init__(self,inputNodes,outputNodes):\n",
        "        self.inputNodes = inputNodes\n",
        "        self.outputNodes = outputNodes\n"
      ]
    },
    {
      "cell_type": "code",
      "execution_count": 3,
      "metadata": {
        "colab": {
          "base_uri": "https://localhost:8080/"
        },
        "id": "8d2_TB1kKaKQ",
        "outputId": "998092d4-28c7-44f2-b58d-fd3f959bc39e"
      },
      "outputs": [],
      "source": [
        "from torchvision import datasets, transforms\n",
        "import torch\n",
        "\n",
        "transform = transforms.Compose([transforms.ToTensor(),\n",
        "                                transforms.Normalize((0.5,), (0.5,))])\n",
        "\n",
        "dataset = datasets.MNIST(root='../data', train=True, download=True, transform=transform);\n",
        "trainloader = torch.utils.data.DataLoader(dataset, batch_size=64, shuffle=True);\n"
      ]
    },
    {
      "cell_type": "code",
      "execution_count": 4,
      "metadata": {
        "id": "GOKmLjZhKcNO"
      },
      "outputs": [],
      "source": [
        "train_dataset = dataset.data\n",
        "train_dataset = train_dataset.view(-1,784)[:10]\n",
        "train_labels = dataset.targets\n",
        "train_labels = torch.eye(10)[train_labels[:10]]\n"
      ]
    },
    {
      "cell_type": "code",
      "execution_count": 5,
      "metadata": {
        "id": "MZD1YorTdDaK"
      },
      "outputs": [
        {
          "data": {
            "text/plain": [
              "torch.Size([60000, 28, 28])"
            ]
          },
          "execution_count": 5,
          "metadata": {},
          "output_type": "execute_result"
        }
      ],
      "source": [
        "dataset.data.size()"
      ]
    },
    {
      "cell_type": "code",
      "execution_count": 6,
      "metadata": {
        "colab": {
          "base_uri": "https://localhost:8080/"
        },
        "id": "7Rj6yRDaKd9g",
        "outputId": "efbbaf84-ddec-461f-cc53-97465af56e2f"
      },
      "outputs": [
        {
          "name": "stdout",
          "output_type": "stream",
          "text": [
            "tensor([[0, 0, 0,  ..., 0, 0, 0],\n",
            "        [0, 0, 0,  ..., 0, 0, 0],\n",
            "        [0, 0, 0,  ..., 0, 0, 0],\n",
            "        ...,\n",
            "        [0, 0, 0,  ..., 0, 0, 0],\n",
            "        [0, 0, 0,  ..., 0, 0, 0],\n",
            "        [0, 0, 0,  ..., 0, 0, 0]], dtype=torch.uint8)\n",
            "================================\n",
            "tensor([[0., 0., 0., 0., 0., 1., 0., 0., 0., 0.],\n",
            "        [1., 0., 0., 0., 0., 0., 0., 0., 0., 0.],\n",
            "        [0., 0., 0., 0., 1., 0., 0., 0., 0., 0.],\n",
            "        [0., 1., 0., 0., 0., 0., 0., 0., 0., 0.],\n",
            "        [0., 0., 0., 0., 0., 0., 0., 0., 0., 1.],\n",
            "        [0., 0., 1., 0., 0., 0., 0., 0., 0., 0.],\n",
            "        [0., 1., 0., 0., 0., 0., 0., 0., 0., 0.],\n",
            "        [0., 0., 0., 1., 0., 0., 0., 0., 0., 0.],\n",
            "        [0., 1., 0., 0., 0., 0., 0., 0., 0., 0.],\n",
            "        [0., 0., 0., 0., 1., 0., 0., 0., 0., 0.]])\n"
          ]
        },
        {
          "data": {
            "text/plain": [
              "torch.Size([10, 784])"
            ]
          },
          "execution_count": 6,
          "metadata": {},
          "output_type": "execute_result"
        }
      ],
      "source": [
        "print(train_dataset)\n",
        "print(\"================================\")\n",
        "print(train_labels)\n",
        "train_dataset.view(-1,784)[:10].shape"
      ]
    },
    {
      "cell_type": "code",
      "execution_count": 7,
      "metadata": {
        "id": "J8YoQLNqKfYv"
      },
      "outputs": [],
      "source": [
        "def eval_genomes(genomes, config):\n",
        "    for genome_id, genome in genomes:\n",
        "        net = neat.nn.FeedForwardNetwork.create(genome, config)\n",
        "        # print(f\"Genome ID: {genome_id} : {genome}\")\n",
        "        fitness = []\n",
        "        for xi, xo in zip(train_dataset, train_labels):\n",
        "            # print(xi.shape)\n",
        "            output = torch.tensor(net.activate(xi))\n",
        "            loss = ((output-xo)**2).sum()\n",
        "            fitness.append(-loss.item())\n",
        "            # print(genome.fitness)\n",
        "        genome.fitness = sum(fitness) / len(fitness)\n",
        "        \n",
        "def eval_genome(genome, config):\n",
        "    net = neat.nn.FeedForwardNetwork.create(genome, config)\n",
        "    # print(f\"Genome ID: {genome_id} : {genome}\")\n",
        "    fitness = []\n",
        "    for xi, xo in zip(train_dataset, train_labels):\n",
        "        # print(xi.shape)\n",
        "        output = torch.tensor(net.activate(xi))\n",
        "        loss = ((output-xo)**2).sum()\n",
        "        fitness.append(-loss.item())\n",
        "        # print(genome.fitness)\n",
        "    return sum(fitness) / len(fitness)\n",
        "        "
      ]
    },
    {
      "cell_type": "code",
      "execution_count": 8,
      "metadata": {},
      "outputs": [],
      "source": [
        "\"\"\"\n",
        "Runs evaluation functions in parallel subprocesses\n",
        "in order to evaluate multiple genomes at once.\n",
        "\"\"\"\n",
        "from multiprocessing import Pool\n",
        "\n",
        "\n",
        "class ParallelEvaluator(object):\n",
        "    def __init__(self, num_workers, eval_function, timeout=None, maxtasksperchild=None):\n",
        "        \"\"\"\n",
        "        eval_function should take one argument, a tuple of (genome object, config object),\n",
        "        and return a single float (the genome's fitness).\n",
        "        \"\"\"\n",
        "        self.eval_function = eval_function\n",
        "        self.timeout = timeout\n",
        "        self.pool = Pool(processes=num_workers, maxtasksperchild=maxtasksperchild)\n",
        "\n",
        "    def __del__(self):\n",
        "        self.pool.close()\n",
        "        self.pool.join()\n",
        "        self.pool.terminate()\n",
        "\n",
        "\n",
        "    def evaluate(self, genomes, config):\n",
        "        jobs = []\n",
        "        for ignored_genome_id, genome in genomes:\n",
        "            jobs.append(self.pool.apply_async(self.eval_function, (genome, config)))\n",
        "\n",
        "        # assign the fitness back to each genome\n",
        "        for job, (ignored_genome_id, genome) in zip(jobs, genomes):\n",
        "            genome.fitness = job.get(timeout=self.timeout)"
      ]
    },
    {
      "cell_type": "code",
      "execution_count": 9,
      "metadata": {
        "id": "vj0eCeL_KggP"
      },
      "outputs": [],
      "source": [
        "def run(config_file):\n",
        "    # Load configuration.\n",
        "    config = neat.Config(neat.DefaultGenome, neat.DefaultReproduction,\n",
        "                         neat.DefaultSpeciesSet, neat.DefaultStagnation,\n",
        "                         config_file)\n",
        "\n",
        "    # Create the population, which is the top-level object for a NEAT run.\n",
        "    p = neat.Population(config)\n",
        "    \n",
        "\n",
        "    # Add a stdout reporter to show progress in the terminal.\n",
        "    p.add_reporter(neat.StdOutReporter(True))\n",
        "    stats = neat.StatisticsReporter()\n",
        "    p.add_reporter(stats)\n",
        "    p.add_reporter(neat.Checkpointer(5))\n",
        "    print(\"before winner\")\n",
        "    # Run for up to 300 generations.\n",
        "    parallel_eval = ParallelEvaluator(8,eval_genome)\n",
        "    winner = p.run(parallel_eval.evaluate, 20)\n",
        "    print(\"after winner\")\n",
        "    # Display the winning genome.\n",
        "    print('\\nBest genome:\\n{!s}'.format(winner))\n",
        "\n",
        "    # Show output of the most fit genome against training data.\n",
        "    print('\\nOutput:')\n",
        "    winner_net = neat.nn.FeedForwardNetwork.create(winner, config)\n",
        "\n",
        "    #Evaluation\n",
        "    acc_counter = []\n",
        "    for xi, xo in zip(train_dataset, train_labels):\n",
        "        print(\"inside foor loop\")\n",
        "        xi = xi.flatten()\n",
        "        output = winner_net.activate(xi)\n",
        "        print(\"target output {!r}, actual output {!r}\".format(xo, output))\n",
        "        print(\"target output {!r}, actual output {!r}\".format(xo, torch.nn.functional.softmax(output)))\n",
        "        print(f\"target output {torch.argmax(xo)}, actual output {torch.argmax(torch.tensor(output))}\")\n",
        "        print(\"==================================\")\n",
        "        acc_counter.append(1.0 if torch.argmax(xo) ==torch.argmax(torch.tensor(output)) else 0.0)\n",
        "    print(f\"Overall Accuracy: {torch.tensor(acc_counter).mean().item()}\")\n",
        "    return winner_net, winner;"
      ]
    },
    {
      "cell_type": "code",
      "execution_count": 10,
      "metadata": {
        "colab": {
          "base_uri": "https://localhost:8080/"
        },
        "id": "sE1FMATgKhZt",
        "outputId": "f8b8ab4b-090c-45bf-b5b5-ebda1d9c4588"
      },
      "outputs": [
        {
          "name": "stdout",
          "output_type": "stream",
          "text": [
            "before winner\n",
            "\n",
            " ****** Running generation 0 ****** \n",
            "\n"
          ]
        }
      ],
      "source": [
        "winner_1, winner_genome = run('NEAT/config-feedforward');"
      ]
    },
    {
      "cell_type": "code",
      "execution_count": null,
      "metadata": {
        "id": "GIqfJmxuYtxi"
      },
      "outputs": [
        {
          "ename": "Exception",
          "evalue": "No such config file: /home/nils/Documents/naturliga_beräkningsmetoder/project/NEAT-PSO/src/config-feedforward",
          "output_type": "error",
          "traceback": [
            "\u001b[0;31m---------------------------------------------------------------------------\u001b[0m",
            "\u001b[0;31mException\u001b[0m                                 Traceback (most recent call last)",
            "Cell \u001b[0;32mIn[143], line 1\u001b[0m\n\u001b[0;32m----> 1\u001b[0m n \u001b[38;5;241m=\u001b[39m (winner_1\u001b[38;5;241m.\u001b[39mcreate(winner_genome,\u001b[43mneat\u001b[49m\u001b[38;5;241;43m.\u001b[39;49m\u001b[43mConfig\u001b[49m\u001b[43m(\u001b[49m\u001b[43mneat\u001b[49m\u001b[38;5;241;43m.\u001b[39;49m\u001b[43mDefaultGenome\u001b[49m\u001b[43m,\u001b[49m\u001b[43m \u001b[49m\u001b[43mneat\u001b[49m\u001b[38;5;241;43m.\u001b[39;49m\u001b[43mDefaultReproduction\u001b[49m\u001b[43m,\u001b[49m\n\u001b[1;32m      2\u001b[0m \u001b[43m                         \u001b[49m\u001b[43mneat\u001b[49m\u001b[38;5;241;43m.\u001b[39;49m\u001b[43mDefaultSpeciesSet\u001b[49m\u001b[43m,\u001b[49m\u001b[43m \u001b[49m\u001b[43mneat\u001b[49m\u001b[38;5;241;43m.\u001b[39;49m\u001b[43mDefaultStagnation\u001b[49m\u001b[43m,\u001b[49m\n\u001b[1;32m      3\u001b[0m \u001b[43m                         \u001b[49m\u001b[38;5;124;43m'\u001b[39;49m\u001b[38;5;124;43mconfig-feedforward\u001b[39;49m\u001b[38;5;124;43m'\u001b[39;49m\u001b[43m)\u001b[49m))\n",
            "File \u001b[0;32m~/Documents/naturliga_beräkningsmetoder/project/NEAT-PSO/.venv/lib/python3.10/site-packages/neat/config.py:153\u001b[0m, in \u001b[0;36mConfig.__init__\u001b[0;34m(self, genome_type, reproduction_type, species_set_type, stagnation_type, filename)\u001b[0m\n\u001b[1;32m    150\u001b[0m \u001b[38;5;28mself\u001b[39m\u001b[38;5;241m.\u001b[39mstagnation_type \u001b[38;5;241m=\u001b[39m stagnation_type\n\u001b[1;32m    152\u001b[0m \u001b[38;5;28;01mif\u001b[39;00m \u001b[38;5;129;01mnot\u001b[39;00m os\u001b[38;5;241m.\u001b[39mpath\u001b[38;5;241m.\u001b[39misfile(filename):\n\u001b[0;32m--> 153\u001b[0m     \u001b[38;5;28;01mraise\u001b[39;00m \u001b[38;5;167;01mException\u001b[39;00m(\u001b[38;5;124m'\u001b[39m\u001b[38;5;124mNo such config file: \u001b[39m\u001b[38;5;124m'\u001b[39m \u001b[38;5;241m+\u001b[39m os\u001b[38;5;241m.\u001b[39mpath\u001b[38;5;241m.\u001b[39mabspath(filename))\n\u001b[1;32m    155\u001b[0m parameters \u001b[38;5;241m=\u001b[39m ConfigParser()\n\u001b[1;32m    156\u001b[0m \u001b[38;5;28;01mwith\u001b[39;00m \u001b[38;5;28mopen\u001b[39m(filename) \u001b[38;5;28;01mas\u001b[39;00m f:\n",
            "\u001b[0;31mException\u001b[0m: No such config file: /home/nils/Documents/naturliga_beräkningsmetoder/project/NEAT-PSO/src/config-feedforward"
          ]
        }
      ],
      "source": [
        "n = (winner_1.create(winner_genome,neat.Config(neat.DefaultGenome, neat.DefaultReproduction,\n",
        "                         neat.DefaultSpeciesSet, neat.DefaultStagnation,\n",
        "                         'config-feedforward')))"
      ]
    },
    {
      "cell_type": "code",
      "execution_count": null,
      "metadata": {},
      "outputs": [
        {
          "name": "stdout",
          "output_type": "stream",
          "text": [
            "-170 : 119\n"
          ]
        }
      ],
      "source": [
        "l = list(winner_genome.connections.keys())\n",
        "\n",
        "for k,v in l:\n",
        "    if v == 119 or v == 16:\n",
        "        print(f\"{k} : {v}\")\n"
      ]
    }
  ],
  "metadata": {
    "accelerator": "GPU",
    "colab": {
      "gpuType": "T4",
      "provenance": []
    },
    "kernelspec": {
      "display_name": "Python 3",
      "name": "python3"
    },
    "language_info": {
      "codemirror_mode": {
        "name": "ipython",
        "version": 3
      },
      "file_extension": ".py",
      "mimetype": "text/x-python",
      "name": "python",
      "nbconvert_exporter": "python",
      "pygments_lexer": "ipython3",
      "version": "3.12.1"
    }
  },
  "nbformat": 4,
  "nbformat_minor": 0
}
