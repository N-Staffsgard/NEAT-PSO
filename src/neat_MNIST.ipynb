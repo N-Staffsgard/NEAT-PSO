{
 "cells": [
  {
   "cell_type": "code",
   "execution_count": null,
   "metadata": {},
   "outputs": [],
   "source": [
    "from torchvision import datasets, transforms\n",
    "import torch\n",
    "import neat\n",
    "# TODO: These are a beginning of an own implemenation of NEAT, not used anywhere yet.\n",
    "class Genome:\n",
    "    def __init__(self, key):\n",
    "        self.key = key\n",
    "\n",
    "class NEAT:\n",
    "    def __init__(self, inputNodes, outputNodes):\n",
    "        self.inputLayer =  torch.nn.Linear(in_features= inputNodes,out_features=1)\n",
    "        self.relu1 = torch.nn.ReLU()\n",
    "        self.outputLayer = torch.nn.Linear(1,outputNodes)\n",
    "        self.model = [self.inputLayer, self.relu1,self.outputLayer]\n",
    "        self.nLayers = 1\n",
    "        \n",
    "\n",
    "class Model:\n",
    "    def __init__(self,inputNodes,outputNodes):\n",
    "        self.inputNodes = inputNodes\n",
    "        self.outputNodes = outputNodes\n"
   ]
  },
  {
   "cell_type": "code",
   "execution_count": 3,
   "metadata": {},
   "outputs": [],
   "source": [
    "from torchvision import datasets, transforms\n",
    "import torch\n",
    "\n",
    "transform = transforms.Compose([transforms.ToTensor(),\n",
    "                                transforms.Normalize((0.5,), (0.5,))])\n",
    "\n",
    "dataset = datasets.MNIST(root='../data', train=True, download=True, transform=transform);\n",
    "trainloader = torch.utils.data.DataLoader(dataset, batch_size=64, shuffle=True);\n"
   ]
  },
  {
   "cell_type": "code",
   "execution_count": 45,
   "metadata": {},
   "outputs": [
    {
     "name": "stderr",
     "output_type": "stream",
     "text": [
      "/home/nils/Documents/naturliga_beräkningsmetoder/project/NEAT-PSO/.venv/lib/python3.10/site-packages/torchvision/datasets/mnist.py:76: UserWarning: train_data has been renamed data\n",
      "  warnings.warn(\"train_data has been renamed data\")\n",
      "/home/nils/Documents/naturliga_beräkningsmetoder/project/NEAT-PSO/.venv/lib/python3.10/site-packages/torchvision/datasets/mnist.py:66: UserWarning: train_labels has been renamed targets\n",
      "  warnings.warn(\"train_labels has been renamed targets\")\n"
     ]
    }
   ],
   "source": [
    "train_dataset = dataset.train_data\n",
    "train_dataset = train_dataset.view(-1,784)[:20]\n",
    "train_labels = dataset.train_labels\n",
    "train_labels = train_labels[:20]"
   ]
  },
  {
   "cell_type": "code",
   "execution_count": 44,
   "metadata": {},
   "outputs": [
    {
     "data": {
      "text/plain": [
       "torch.Size([20, 784])"
      ]
     },
     "execution_count": 44,
     "metadata": {},
     "output_type": "execute_result"
    }
   ],
   "source": [
    "train_dataset.view(-1,784)[:20].shape"
   ]
  },
  {
   "cell_type": "code",
   "execution_count": 50,
   "metadata": {},
   "outputs": [],
   "source": [
    "def eval_genomes(genomes, config):\n",
    "    for genome_id, genome in genomes:\n",
    "        genome.fitness = 4.0\n",
    "        net = neat.nn.FeedForwardNetwork.create(genome, config)\n",
    "        for xi, xo in zip(train_dataset, train_labels):\n",
    "            output = torch.tensor(net.activate(xi))\n",
    "            genome.fitness -= torch.nn.functional.cross_entropy(output , xo)"
   ]
  },
  {
   "cell_type": "code",
   "execution_count": 53,
   "metadata": {},
   "outputs": [],
   "source": [
    "def run(config_file):\n",
    "    # Load configuration.\n",
    "    config = neat.Config(neat.DefaultGenome, neat.DefaultReproduction,\n",
    "                         neat.DefaultSpeciesSet, neat.DefaultStagnation,\n",
    "                         config_file)\n",
    "\n",
    "    # Create the population, which is the top-level object for a NEAT run.\n",
    "    p = neat.Population(config)\n",
    "\n",
    "    # Add a stdout reporter to show progress in the terminal.\n",
    "    p.add_reporter(neat.StdOutReporter(True))\n",
    "    stats = neat.StatisticsReporter()\n",
    "    p.add_reporter(stats)\n",
    "    p.add_reporter(neat.Checkpointer(5))\n",
    "    print(\"before winner\")\n",
    "    # Run for up to 300 generations.\n",
    "    winner = p.run(eval_genomes, 2)\n",
    "    print(\"after winner\")\n",
    "    # Display the winning genome.\n",
    "    print('\\nBest genome:\\n{!s}'.format(winner))\n",
    "\n",
    "    # Show output of the most fit genome against training data.\n",
    "    print('\\nOutput:')\n",
    "    winner_net = neat.nn.FeedForwardNetwork.create(winner, config)\n",
    "    for xi, xo in zip(train_dataset, train_labels):\n",
    "        print(\"inside foor loop\")\n",
    "        xi = xi.flatten()\n",
    "        output = winner_net.activate(xi)\n",
    "        print(\"input {!r}, expected output {!r}, got {!r}\".format(xi, xo, output))"
   ]
  },
  {
   "cell_type": "code",
   "execution_count": 54,
   "metadata": {},
   "outputs": [
    {
     "name": "stdout",
     "output_type": "stream",
     "text": [
      "before winner\n",
      "\n",
      " ****** Running generation 0 ****** \n",
      "\n",
      "Population's average fitness: -44.03394 stdev: 1.91448\n",
      "Best fitness: -39.70070 - size: (10, 7840) - species 1 - id 117\n",
      "Average adjusted fitness: 0.520\n"
     ]
    },
    {
     "ename": "TypeError",
     "evalue": "type Tensor doesn't define __round__ method",
     "output_type": "error",
     "traceback": [
      "\u001b[0;31m---------------------------------------------------------------------------\u001b[0m",
      "\u001b[0;31mTypeError\u001b[0m                                 Traceback (most recent call last)",
      "Cell \u001b[0;32mIn[54], line 1\u001b[0m\n\u001b[0;32m----> 1\u001b[0m \u001b[43mrun\u001b[49m\u001b[43m(\u001b[49m\u001b[38;5;124;43m'\u001b[39;49m\u001b[38;5;124;43mNEAT/config-feedforward\u001b[39;49m\u001b[38;5;124;43m'\u001b[39;49m\u001b[43m)\u001b[49m\n",
      "Cell \u001b[0;32mIn[53], line 17\u001b[0m, in \u001b[0;36mrun\u001b[0;34m(config_file)\u001b[0m\n\u001b[1;32m     15\u001b[0m \u001b[38;5;28mprint\u001b[39m(\u001b[38;5;124m\"\u001b[39m\u001b[38;5;124mbefore winner\u001b[39m\u001b[38;5;124m\"\u001b[39m)\n\u001b[1;32m     16\u001b[0m \u001b[38;5;66;03m# Run for up to 300 generations.\u001b[39;00m\n\u001b[0;32m---> 17\u001b[0m winner \u001b[38;5;241m=\u001b[39m \u001b[43mp\u001b[49m\u001b[38;5;241;43m.\u001b[39;49m\u001b[43mrun\u001b[49m\u001b[43m(\u001b[49m\u001b[43meval_genomes\u001b[49m\u001b[43m,\u001b[49m\u001b[43m \u001b[49m\u001b[38;5;241;43m2\u001b[39;49m\u001b[43m)\u001b[49m\n\u001b[1;32m     18\u001b[0m \u001b[38;5;28mprint\u001b[39m(\u001b[38;5;124m\"\u001b[39m\u001b[38;5;124mafter winner\u001b[39m\u001b[38;5;124m\"\u001b[39m)\n\u001b[1;32m     19\u001b[0m \u001b[38;5;66;03m# Display the winning genome.\u001b[39;00m\n",
      "File \u001b[0;32m~/Documents/naturliga_beräkningsmetoder/project/NEAT-PSO/.venv/lib/python3.10/site-packages/neat/population.py:110\u001b[0m, in \u001b[0;36mPopulation.run\u001b[0;34m(self, fitness_function, n)\u001b[0m\n\u001b[1;32m    107\u001b[0m         \u001b[38;5;28;01mbreak\u001b[39;00m\n\u001b[1;32m    109\u001b[0m \u001b[38;5;66;03m# Create the next generation from the current generation.\u001b[39;00m\n\u001b[0;32m--> 110\u001b[0m \u001b[38;5;28mself\u001b[39m\u001b[38;5;241m.\u001b[39mpopulation \u001b[38;5;241m=\u001b[39m \u001b[38;5;28;43mself\u001b[39;49m\u001b[38;5;241;43m.\u001b[39;49m\u001b[43mreproduction\u001b[49m\u001b[38;5;241;43m.\u001b[39;49m\u001b[43mreproduce\u001b[49m\u001b[43m(\u001b[49m\u001b[38;5;28;43mself\u001b[39;49m\u001b[38;5;241;43m.\u001b[39;49m\u001b[43mconfig\u001b[49m\u001b[43m,\u001b[49m\u001b[43m \u001b[49m\u001b[38;5;28;43mself\u001b[39;49m\u001b[38;5;241;43m.\u001b[39;49m\u001b[43mspecies\u001b[49m\u001b[43m,\u001b[49m\n\u001b[1;32m    111\u001b[0m \u001b[43m                                              \u001b[49m\u001b[38;5;28;43mself\u001b[39;49m\u001b[38;5;241;43m.\u001b[39;49m\u001b[43mconfig\u001b[49m\u001b[38;5;241;43m.\u001b[39;49m\u001b[43mpop_size\u001b[49m\u001b[43m,\u001b[49m\u001b[43m \u001b[49m\u001b[38;5;28;43mself\u001b[39;49m\u001b[38;5;241;43m.\u001b[39;49m\u001b[43mgeneration\u001b[49m\u001b[43m)\u001b[49m\n\u001b[1;32m    113\u001b[0m \u001b[38;5;66;03m# Check for complete extinction.\u001b[39;00m\n\u001b[1;32m    114\u001b[0m \u001b[38;5;28;01mif\u001b[39;00m \u001b[38;5;129;01mnot\u001b[39;00m \u001b[38;5;28mself\u001b[39m\u001b[38;5;241m.\u001b[39mspecies\u001b[38;5;241m.\u001b[39mspecies:\n",
      "File \u001b[0;32m~/Documents/naturliga_beräkningsmetoder/project/NEAT-PSO/.venv/lib/python3.10/site-packages/neat/reproduction.py:137\u001b[0m, in \u001b[0;36mDefaultReproduction.reproduce\u001b[0;34m(self, config, species, pop_size, generation)\u001b[0m\n\u001b[1;32m    133\u001b[0m \u001b[38;5;66;03m# Isn't the effective min_species_size going to be max(min_species_size,\u001b[39;00m\n\u001b[1;32m    134\u001b[0m \u001b[38;5;66;03m# self.reproduction_config.elitism)? That would probably produce more accurate tracking\u001b[39;00m\n\u001b[1;32m    135\u001b[0m \u001b[38;5;66;03m# of population sizes and relative fitnesses... doing. TODO: document.\u001b[39;00m\n\u001b[1;32m    136\u001b[0m min_species_size \u001b[38;5;241m=\u001b[39m \u001b[38;5;28mmax\u001b[39m(min_species_size,\u001b[38;5;28mself\u001b[39m\u001b[38;5;241m.\u001b[39mreproduction_config\u001b[38;5;241m.\u001b[39melitism)\n\u001b[0;32m--> 137\u001b[0m spawn_amounts \u001b[38;5;241m=\u001b[39m \u001b[38;5;28;43mself\u001b[39;49m\u001b[38;5;241;43m.\u001b[39;49m\u001b[43mcompute_spawn\u001b[49m\u001b[43m(\u001b[49m\u001b[43madjusted_fitnesses\u001b[49m\u001b[43m,\u001b[49m\u001b[43m \u001b[49m\u001b[43mprevious_sizes\u001b[49m\u001b[43m,\u001b[49m\n\u001b[1;32m    138\u001b[0m \u001b[43m                                   \u001b[49m\u001b[43mpop_size\u001b[49m\u001b[43m,\u001b[49m\u001b[43m \u001b[49m\u001b[43mmin_species_size\u001b[49m\u001b[43m)\u001b[49m\n\u001b[1;32m    140\u001b[0m new_population \u001b[38;5;241m=\u001b[39m {}\n\u001b[1;32m    141\u001b[0m species\u001b[38;5;241m.\u001b[39mspecies \u001b[38;5;241m=\u001b[39m {}\n",
      "File \u001b[0;32m~/Documents/naturliga_beräkningsmetoder/project/NEAT-PSO/.venv/lib/python3.10/site-packages/neat/reproduction.py:65\u001b[0m, in \u001b[0;36mDefaultReproduction.compute_spawn\u001b[0;34m(adjusted_fitness, previous_sizes, pop_size, min_species_size)\u001b[0m\n\u001b[1;32m     62\u001b[0m     s \u001b[38;5;241m=\u001b[39m min_species_size\n\u001b[1;32m     64\u001b[0m d \u001b[38;5;241m=\u001b[39m (s \u001b[38;5;241m-\u001b[39m ps) \u001b[38;5;241m*\u001b[39m \u001b[38;5;241m0.5\u001b[39m\n\u001b[0;32m---> 65\u001b[0m c \u001b[38;5;241m=\u001b[39m \u001b[38;5;28mint\u001b[39m(\u001b[38;5;28;43mround\u001b[39;49m\u001b[43m(\u001b[49m\u001b[43md\u001b[49m\u001b[43m)\u001b[49m)\n\u001b[1;32m     66\u001b[0m spawn \u001b[38;5;241m=\u001b[39m ps\n\u001b[1;32m     67\u001b[0m \u001b[38;5;28;01mif\u001b[39;00m \u001b[38;5;28mabs\u001b[39m(c) \u001b[38;5;241m>\u001b[39m \u001b[38;5;241m0\u001b[39m:\n",
      "\u001b[0;31mTypeError\u001b[0m: type Tensor doesn't define __round__ method"
     ]
    }
   ],
   "source": [
    "run('NEAT/config-feedforward')"
   ]
  }
 ],
 "metadata": {
  "kernelspec": {
   "display_name": ".venv",
   "language": "python",
   "name": "python3"
  },
  "language_info": {
   "codemirror_mode": {
    "name": "ipython",
    "version": 3
   },
   "file_extension": ".py",
   "mimetype": "text/x-python",
   "name": "python",
   "nbconvert_exporter": "python",
   "pygments_lexer": "ipython3",
   "version": "3.10.12"
  }
 },
 "nbformat": 4,
 "nbformat_minor": 2
}
